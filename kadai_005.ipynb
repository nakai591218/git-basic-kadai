{
  "nbformat": 4,
  "nbformat_minor": 0,
  "metadata": {
    "colab": {
      "provenance": []
    },
    "kernelspec": {
      "name": "python3",
      "display_name": "Python 3"
    },
    "language_info": {
      "name": "python"
    }
  },
  "cells": [
    {
      "cell_type": "code",
      "execution_count": 2,
      "metadata": {
        "colab": {
          "base_uri": "https://localhost:8080/"
        },
        "id": "p6qB_VXCwU0g",
        "outputId": "3581f750-eb02-45f0-f7ef-cad555f6e862"
      },
      "outputs": [
        {
          "output_type": "stream",
          "name": "stdout",
          "text": [
            "75.0\n"
          ]
        }
      ],
      "source": [
        "top_side = 10\n",
        "bottom_side = 20\n",
        "height = 5\n",
        "\n",
        "trapezoid = (top_side+bottom_side)*height/2\n",
        "print(trapezoid)"
      ]
    },
    {
      "cell_type": "code",
      "source": [],
      "metadata": {
        "id": "anSqfDxoxdZ9"
      },
      "execution_count": null,
      "outputs": []
    }
  ]
}