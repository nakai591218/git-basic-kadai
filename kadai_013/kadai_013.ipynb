{
  "nbformat": 4,
  "nbformat_minor": 0,
  "metadata": {
    "colab": {
      "provenance": []
    },
    "kernelspec": {
      "name": "python3",
      "display_name": "Python 3"
    },
    "language_info": {
      "name": "python"
    }
  },
  "cells": [
    {
      "cell_type": "code",
      "execution_count": 47,
      "metadata": {
        "colab": {
          "base_uri": "https://localhost:8080/"
        },
        "id": "iqPXPGgWrcLK",
        "outputId": "af02ad4f-d2d2-4210-cbb0-e93a11d72e1c"
      },
      "outputs": [
        {
          "output_type": "stream",
          "name": "stdout",
          "text": [
            "商品は150円,消費税10％で15.0円,合計で165.0円です\n"
          ]
        }
      ],
      "source": [
        "def add_price_value(price,tax):\n",
        "    x=price\n",
        "    y=tax\n",
        "    z=x*(tax/100)\n",
        "    totle = x+z\n",
        "    tax_totle=totle\n",
        "    print(f\"商品は{x}円,消費税{y}％で{z}円,合計で{totle}円です\")\n",
        "    # return tax_totle\n",
        "\n",
        "add_price_value(150,10)"
      ]
    },
    {
      "cell_type": "code",
      "source": [
        "def add_price_value(price,tax):\n",
        "    x=price\n",
        "    y=tax\n",
        "    z=x*(tax/100)\n",
        "    totle = x+z\n",
        "    tax_totle=totle\n",
        "    return tax_totle\n",
        "\n",
        "add_price_value(150,10)"
      ],
      "metadata": {
        "colab": {
          "base_uri": "https://localhost:8080/"
        },
        "id": "yWoPqroY1SZy",
        "outputId": "d9e65ac5-795a-4555-a171-5ae556f97337"
      },
      "execution_count": 48,
      "outputs": [
        {
          "output_type": "execute_result",
          "data": {
            "text/plain": [
              "165.0"
            ]
          },
          "metadata": {},
          "execution_count": 48
        }
      ]
    }
  ]
}